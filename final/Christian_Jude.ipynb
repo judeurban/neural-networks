{
 "cells": [
  {
   "cell_type": "markdown",
   "metadata": {},
   "source": [
    "# Import Required Libraries"
   ]
  },
  {
   "cell_type": "code",
   "execution_count": 1,
   "metadata": {},
   "outputs": [
    {
     "name": "stdout",
     "output_type": "stream",
     "text": [
      "[]\n"
     ]
    }
   ],
   "source": [
    "import keras\n",
    "import pandas as pd\n",
    "import numpy as np\n",
    "from collections import Counter\n",
    "import tensorflow as tf\n",
    "from keras.models import Sequential\n",
    "from keras.layers import Dense, Conv2D, MaxPooling2D, Flatten\n",
    "import numpy as np\n",
    "from PIL import Image\n",
    "import matplotlib.pyplot as plt\n",
    "import matplotlib\n",
    "from keras.datasets import mnist\n",
    "from pandas import DataFrame, read_csv\n",
    "import random\n",
    "import os\n",
    "import math\n",
    "from keras.callbacks import Callback\n",
    "from sklearn.metrics import confusion_matrix, f1_score, precision_score, recall_score\n",
    "\n",
    "os.chdir('C:/Users/Chris/Documents/Neural Networks/Final Project')\n",
    "\n",
    "USE_GPU = True\n",
    "if USE_GPU:\n",
    "    print(tf.config.list_physical_devices('GPU'))\n"
   ]
  },
  {
   "cell_type": "code",
   "execution_count": 2,
   "metadata": {},
   "outputs": [],
   "source": [
    "data_df = read_csv('bank_categorical_translate.csv')"
   ]
  },
  {
   "cell_type": "code",
   "execution_count": 3,
   "metadata": {},
   "outputs": [],
   "source": [
    "training_data_df = data_df.sample(math.ceil(len(data_df.index)*0.8))\n",
    "df_all = data_df.merge(training_data_df.drop_duplicates(), on=list(data_df.columns), \n",
    "                   how='left', indicator=True)\n",
    "df_all = df_all.loc[df_all['_merge'] == 'left_only']\n",
    "validation_data_df = df_all.drop('_merge', axis=1)\n",
    "training_target_df = training_data_df.pop('target')\n",
    "validation_target_df = validation_data_df.pop('target')"
   ]
  },
  {
   "cell_type": "markdown",
   "metadata": {},
   "source": [
    "# Construct the Network"
   ]
  },
  {
   "cell_type": "code",
   "execution_count": 4,
   "metadata": {},
   "outputs": [
    {
     "name": "stdout",
     "output_type": "stream",
     "text": [
      "Model: \"sequential\"\n",
      "_________________________________________________________________\n",
      " Layer (type)                Output Shape              Param #   \n",
      "=================================================================\n",
      " dense (Dense)               (None, 64)                3264      \n",
      "                                                                 \n",
      " dense_1 (Dense)             (None, 64)                4160      \n",
      "                                                                 \n",
      " dense_2 (Dense)             (None, 32)                2080      \n",
      "                                                                 \n",
      " dense_3 (Dense)             (None, 16)                528       \n",
      "                                                                 \n",
      " dense_4 (Dense)             (None, 8)                 136       \n",
      "                                                                 \n",
      " dense_5 (Dense)             (None, 4)                 36        \n",
      "                                                                 \n",
      " dense_6 (Dense)             (None, 2)                 10        \n",
      "                                                                 \n",
      " flatten (Flatten)           (None, 2)                 0         \n",
      "                                                                 \n",
      " dense_7 (Dense)             (None, 1)                 3         \n",
      "                                                                 \n",
      "=================================================================\n",
      "Total params: 10,217\n",
      "Trainable params: 10,217\n",
      "Non-trainable params: 0\n",
      "_________________________________________________________________\n"
     ]
    }
   ],
   "source": [
    "# assemble the fully connected network\n",
    "number_of_columns = training_data_df.shape[1]\n",
    "model = Sequential()\n",
    "\n",
    "model.add(keras.layers.Dense(64, activation=\"LeakyReLU\", input_shape=(number_of_columns,)))\n",
    "\n",
    "# add the fully connected layers in a funnel shape. Try it out!\n",
    "for layer_size in [64, 32, 16, 8, 4,2]:\n",
    "    model.add(keras.layers.Dense(layer_size, activation='LeakyReLU'))\n",
    "    # model.add(keras.layers.Dropout(.05, noise_shape=None, seed=None))\n",
    "    # model.add(keras.layers.BatchNormalization())\n",
    "\n",
    "model.add(Flatten())\n",
    "model.add(keras.layers.Dense(1, activation = 'sigmoid'))\n",
    "\n",
    "model.summary()"
   ]
  },
  {
   "cell_type": "markdown",
   "metadata": {},
   "source": [
    "# Train the Neural Network"
   ]
  },
  {
   "cell_type": "code",
   "execution_count": 5,
   "metadata": {},
   "outputs": [
    {
     "name": "stdout",
     "output_type": "stream",
     "text": [
      "Starting Training.\n",
      "16476/16476 [==============================] - 30s 2ms/step - loss: 0.2892 - accuracy: 0.8968 - val_loss: 0.2957 - val_accuracy: 0.8906\n",
      "Training is complete.\n"
     ]
    }
   ],
   "source": [
    "BATCH_SIZE = 2\n",
    "\n",
    "model.compile(optimizer='adam', loss='binary_crossentropy', \n",
    "              metrics=['accuracy'])\n",
    "\n",
    "print(\"Starting Training.\")\n",
    "history = model.fit(training_data_df, training_target_df, validation_data=(validation_data_df, validation_target_df),\n",
    "                    batch_size=BATCH_SIZE, epochs=1)\n",
    "print(\"Training is complete.\")"
   ]
  },
  {
   "cell_type": "code",
   "execution_count": 6,
   "metadata": {},
   "outputs": [
    {
     "name": "stdout",
     "output_type": "stream",
     "text": [
      "Starting Testing.\n",
      "241/241 [==============================] - 0s 1ms/step - loss: 0.2957 - accuracy: 0.8906\n",
      "Testing is Complete.\n"
     ]
    }
   ],
   "source": [
    "print(\"Starting Testing.\")\n",
    "scores = model.evaluate(validation_data_df, validation_target_df)\n",
    "print(\"Testing is Complete.\")"
   ]
  },
  {
   "cell_type": "code",
   "execution_count": 7,
   "metadata": {},
   "outputs": [
    {
     "name": "stdout",
     "output_type": "stream",
     "text": [
      "test loss, test accuracy: [0.2956677973270416, 0.8906229734420776]\n"
     ]
    }
   ],
   "source": [
    "print(\"test loss, test accuracy:\", scores)"
   ]
  },
  {
   "cell_type": "code",
   "execution_count": 8,
   "metadata": {},
   "outputs": [
    {
     "name": "stdout",
     "output_type": "stream",
     "text": [
      "241/241 [==============================] - 0s 1ms/step\n"
     ]
    }
   ],
   "source": [
    "results=model.predict(validation_data_df)"
   ]
  },
  {
   "cell_type": "code",
   "execution_count": 9,
   "metadata": {},
   "outputs": [
    {
     "data": {
      "text/plain": [
       "array([[0.0372556 ],\n",
       "       [0.03988985],\n",
       "       [0.02001224],\n",
       "       ...,\n",
       "       [0.5780645 ],\n",
       "       [0.61065495],\n",
       "       [0.8761622 ]], dtype=float32)"
      ]
     },
     "execution_count": 9,
     "metadata": {},
     "output_type": "execute_result"
    }
   ],
   "source": [
    "results"
   ]
  },
  {
   "cell_type": "code",
   "execution_count": 10,
   "metadata": {},
   "outputs": [],
   "source": [
    "flatlist=[]\n",
    "for sublist in results:\n",
    "    for element in sublist:\n",
    "        flatlist.append(element)\n",
    "results = flatlist"
   ]
  },
  {
   "cell_type": "code",
   "execution_count": 11,
   "metadata": {},
   "outputs": [
    {
     "data": {
      "text/plain": [
       "Counter({0: 6784, 1: 905})"
      ]
     },
     "execution_count": 11,
     "metadata": {},
     "output_type": "execute_result"
    }
   ],
   "source": [
    "Counter(validation_target_df)"
   ]
  },
  {
   "cell_type": "code",
   "execution_count": 12,
   "metadata": {},
   "outputs": [],
   "source": [
    "validation_target_df = pd.DataFrame(validation_target_df)"
   ]
  },
  {
   "cell_type": "code",
   "execution_count": 13,
   "metadata": {},
   "outputs": [],
   "source": [
    "validation_target_df['results'] = results"
   ]
  },
  {
   "cell_type": "code",
   "execution_count": 14,
   "metadata": {},
   "outputs": [],
   "source": [
    "validation_target_df['Model_Results'] = np.where((validation_target_df['results'] > 0.5) & (validation_target_df['target'] == 1), 'True Positive', \n",
    "                                                    np.where((validation_target_df['results'] > 0.5) & \n",
    "                                                     (validation_target_df['target'] != 1), \"False Positive\", \n",
    "                                                    np.where((validation_target_df['results'] <= 0.5) & \n",
    "                                                     (validation_target_df['target'] == 1), \"False Negative\", \"True Negative\")))"
   ]
  },
  {
   "cell_type": "code",
   "execution_count": 15,
   "metadata": {},
   "outputs": [
    {
     "name": "stdout",
     "output_type": "stream",
     "text": [
      "       target   results   Model_Results\n",
      "13          0  0.037256   True Negative\n",
      "24          0  0.039890   True Negative\n",
      "29          0  0.020012   True Negative\n",
      "33          0  0.036234   True Negative\n",
      "34          0  0.040967   True Negative\n",
      "...       ...       ...             ...\n",
      "41157       0  0.164432   True Negative\n",
      "41164       1  0.893861   True Positive\n",
      "41172       1  0.578065   True Positive\n",
      "41177       0  0.610655  False Positive\n",
      "41178       1  0.876162   True Positive\n",
      "\n",
      "[7689 rows x 3 columns]\n"
     ]
    }
   ],
   "source": [
    "print(validation_target_df)"
   ]
  },
  {
   "cell_type": "code",
   "execution_count": 16,
   "metadata": {},
   "outputs": [],
   "source": [
    "TN = validation_target_df['Model_Results'].value_counts()['True Negative']\n",
    "FN = validation_target_df['Model_Results'].value_counts()['False Negative']\n",
    "TP = validation_target_df['Model_Results'].value_counts()['True Positive']\n",
    "FP = validation_target_df['Model_Results'].value_counts()['False Positive']"
   ]
  },
  {
   "cell_type": "code",
   "execution_count": 17,
   "metadata": {},
   "outputs": [
    {
     "name": "stdout",
     "output_type": "stream",
     "text": [
      "True Negatives, False Negatives, True Positives, False Positives: [6600, 657, 248, 184]\n"
     ]
    }
   ],
   "source": [
    "print(\"True Negatives, False Negatives, True Positives, False Positives:\", [TN,FN,TP,FP])"
   ]
  },
  {
   "cell_type": "code",
   "execution_count": 18,
   "metadata": {},
   "outputs": [
    {
     "name": "stdout",
     "output_type": "stream",
     "text": [
      "Accuracy , Precision, Recall [89.06229678761868, 57.407407407407405, 27.40331491712707]\n"
     ]
    }
   ],
   "source": [
    "print(\"Accuracy , Precision, Recall\", [(TP + TN)/(TN + FN + TP + FP)*100, 100*(TP/(TP + FP)), 100*(TP/(TP +FN))])"
   ]
  }
 ],
 "metadata": {
  "kernelspec": {
   "display_name": "Python 3 (ipykernel)",
   "language": "python",
   "name": "python3"
  },
  "language_info": {
   "codemirror_mode": {
    "name": "ipython",
    "version": 3
   },
   "file_extension": ".py",
   "mimetype": "text/x-python",
   "name": "python",
   "nbconvert_exporter": "python",
   "pygments_lexer": "ipython3",
   "version": "3.9.13"
  }
 },
 "nbformat": 4,
 "nbformat_minor": 2
}
