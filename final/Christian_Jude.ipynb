{
 "cells": [
  {
   "cell_type": "markdown",
   "metadata": {},
   "source": [
    "# Import Required Libraries"
   ]
  },
  {
   "cell_type": "code",
   "execution_count": 73,
   "metadata": {},
   "outputs": [
    {
     "name": "stdout",
     "output_type": "stream",
     "text": [
      "[PhysicalDevice(name='/physical_device:GPU:0', device_type='GPU')]\n"
     ]
    }
   ],
   "source": [
    "import keras\n",
    "import pandas as pd\n",
    "import numpy as np\n",
    "from collections import Counter\n",
    "import tensorflow as tf\n",
    "from keras.models import Sequential\n",
    "from keras.layers import Dense, Conv2D, MaxPooling2D, Flatten\n",
    "import numpy as np\n",
    "from PIL import Image\n",
    "import matplotlib.pyplot as plt\n",
    "import matplotlib\n",
    "from keras.datasets import mnist\n",
    "from pandas import DataFrame, read_csv\n",
    "import random\n",
    "import os\n",
    "import math\n",
    "from keras.callbacks import Callback\n",
    "\n",
    "USE_GPU = True\n",
    "if USE_GPU:\n",
    "    print(tf.config.list_physical_devices('GPU'))\n"
   ]
  },
  {
   "cell_type": "code",
   "execution_count": 81,
   "metadata": {},
   "outputs": [],
   "source": [
    "data_df = read_csv('final/modified-data/bank_categorical_translate.csv')\n",
    "training_data_df = data_df.sample(math.ceil(len(data_df.index)*0.8))\n",
    "df_all = data_df.merge(training_data_df.drop_duplicates(),\n",
    "                    on=list(data_df.columns), \n",
    "                   how='left',\n",
    "                   indicator=True\n",
    "                    )\n",
    "\n",
    "df_all = df_all.loc[df_all['_merge'] == 'left_only']\n",
    "validation_data_df = df_all.drop('_merge', axis=1)\n",
    "training_target_df = training_data_df.pop('target')\n",
    "validation_target_df = pd.DataFrame(validation_data_df.pop('target')) # drop this column, but also return a dataframe"
   ]
  },
  {
   "cell_type": "markdown",
   "metadata": {},
   "source": [
    "# Construct the Network"
   ]
  },
  {
   "cell_type": "code",
   "execution_count": 76,
   "metadata": {},
   "outputs": [
    {
     "name": "stdout",
     "output_type": "stream",
     "text": [
      "Model: \"sequential_3\"\n",
      "_________________________________________________________________\n",
      " Layer (type)                Output Shape              Param #   \n",
      "=================================================================\n",
      " dense_24 (Dense)            (None, 64)                3264      \n",
      "                                                                 \n",
      " dense_25 (Dense)            (None, 64)                4160      \n",
      "                                                                 \n",
      " dense_26 (Dense)            (None, 32)                2080      \n",
      "                                                                 \n",
      " dense_27 (Dense)            (None, 16)                528       \n",
      "                                                                 \n",
      " dense_28 (Dense)            (None, 8)                 136       \n",
      "                                                                 \n",
      " dense_29 (Dense)            (None, 4)                 36        \n",
      "                                                                 \n",
      " dense_30 (Dense)            (None, 2)                 10        \n",
      "                                                                 \n",
      " flatten_3 (Flatten)         (None, 2)                 0         \n",
      "                                                                 \n",
      " dense_31 (Dense)            (None, 1)                 3         \n",
      "                                                                 \n",
      "=================================================================\n",
      "Total params: 10,217\n",
      "Trainable params: 10,217\n",
      "Non-trainable params: 0\n",
      "_________________________________________________________________\n"
     ]
    }
   ],
   "source": [
    "# assemble the fully connected network\n",
    "number_of_columns = training_data_df.shape[1]\n",
    "model = Sequential()\n",
    "\n",
    "model.add(keras.layers.Dense(64, activation=\"LeakyReLU\", input_shape=(number_of_columns,)))\n",
    "\n",
    "# add the fully connected layers in a funnel shape. Try it out!\n",
    "for layer_size in [64, 32, 16, 8, 4, 2]:\n",
    "    model.add(keras.layers.Dense(layer_size, activation='LeakyReLU'))\n",
    "    # model.add(keras.layers.Dropout(.05, noise_shape=None, seed=None))\n",
    "    # model.add(keras.layers.BatchNormalization())\n",
    "\n",
    "model.add(Flatten())\n",
    "model.add(keras.layers.Dense(1, activation = 'sigmoid'))\n",
    "\n",
    "model.summary()"
   ]
  },
  {
   "cell_type": "markdown",
   "metadata": {},
   "source": [
    "# Train the Neural Network"
   ]
  },
  {
   "cell_type": "code",
   "execution_count": 77,
   "metadata": {},
   "outputs": [
    {
     "name": "stdout",
     "output_type": "stream",
     "text": [
      "Starting Training.\n",
      "16476/16476 [==============================] - 273s 16ms/step - loss: 0.2906 - accuracy: 0.8953 - val_loss: 0.2933 - val_accuracy: 0.8906\n",
      "Training is complete.\n"
     ]
    }
   ],
   "source": [
    "BATCH_SIZE = 2\n",
    "\n",
    "model.compile(\n",
    "    optimizer='adam',\n",
    "    loss='binary_crossentropy', \n",
    "    metrics=['accuracy']\n",
    ")\n",
    "\n",
    "print(\"Starting Training.\")\n",
    "\n",
    "history = model.fit(\n",
    "    training_data_df,\n",
    "    training_target_df,\n",
    "    validation_data=(validation_data_df, validation_target_df),\n",
    "    batch_size=BATCH_SIZE,\n",
    "    epochs=1\n",
    ")\n",
    "\n",
    "print(\"Training is complete.\")"
   ]
  },
  {
   "cell_type": "code",
   "execution_count": 78,
   "metadata": {},
   "outputs": [
    {
     "name": "stdout",
     "output_type": "stream",
     "text": [
      "Starting Testing.\n",
      "242/242 [==============================] - 2s 9ms/step - loss: 0.2933 - accuracy: 0.8906\n",
      "Testing is Complete.\n",
      "test loss, test accuracy: [0.2933323383331299, 0.890602707862854]\n"
     ]
    }
   ],
   "source": [
    "print(\"Starting Testing.\")\n",
    "scores = model.evaluate(validation_data_df, validation_target_df)\n",
    "print(\"Testing is Complete.\")\n",
    "print(\"test loss, test accuracy:\", scores)\n",
    "\n",
    "# configure for validation section\n",
    "result = list(model.predict(validation_data_df))\n",
    "validation_target_df['result'] = result"
   ]
  },
  {
   "cell_type": "code",
   "execution_count": 93,
   "metadata": {},
   "outputs": [
    {
     "name": "stdout",
     "output_type": "stream",
     "text": [
      "true positives: 110\n",
      "true negatives: 6761\n",
      "false positives: 24\n",
      "false negatives: 809\n",
      "\n",
      "\n",
      "accuracy: 89.18743509865004\n",
      "precision: 82.08955223880598\n",
      "recall: 11.969532100108813\n",
      "\n"
     ]
    }
   ],
   "source": [
    "TP: int = 0\n",
    "TN: int = 0\n",
    "FP: int = 0\n",
    "FN: int = 0\n",
    "\n",
    "for idx, row in validation_target_df.iterrows():\n",
    "\n",
    "    result = float(row['result'])\n",
    "    target = row['target']\n",
    "\n",
    "    # predicted: positive\n",
    "    if result > 0.5:\n",
    "        \n",
    "        # true positive \n",
    "        if target == 1: TP += 1\n",
    "        \n",
    "        # false positive\n",
    "        else: FP += 1\n",
    "    \n",
    "    # predicted: negative\n",
    "    else:\n",
    "\n",
    "        # true negative\n",
    "        if target == 0: TN += 1\n",
    "\n",
    "        # false negative\n",
    "        else: FN += 1\n",
    "\n",
    "print(\n",
    "f'''true positives: {TP}\n",
    "true negatives: {TN}\n",
    "false positives: {FP}\n",
    "false negatives: {FN}\n",
    "''')\n",
    "\n",
    "# determine the accuracy, precision, and recall\n",
    "accuracy = (TP + TN) / (TN + FN + TP + FP)\n",
    "precision = TP / (TP + FP)\n",
    "recall = TP / (TP +FN)\n",
    "\n",
    "print(f'''\n",
    "accuracy: {accuracy * 100}\n",
    "precision: {precision * 100}\n",
    "recall: {recall * 100}\n",
    "''')\n",
    "\n"
   ]
  }
 ],
 "metadata": {
  "kernelspec": {
   "display_name": "Python 3 (ipykernel)",
   "language": "python",
   "name": "python3"
  },
  "language_info": {
   "codemirror_mode": {
    "name": "ipython",
    "version": 3
   },
   "file_extension": ".py",
   "mimetype": "text/x-python",
   "name": "python",
   "nbconvert_exporter": "python",
   "pygments_lexer": "ipython3",
   "version": "3.10.9"
  }
 },
 "nbformat": 4,
 "nbformat_minor": 2
}
