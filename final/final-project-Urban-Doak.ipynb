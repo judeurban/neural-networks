{
 "cells": [
  {
   "attachments": {},
   "cell_type": "markdown",
   "metadata": {},
   "source": [
    "# Import Required Libraries"
   ]
  },
  {
   "cell_type": "code",
   "execution_count": 71,
   "metadata": {},
   "outputs": [
    {
     "name": "stdout",
     "output_type": "stream",
     "text": [
      "[PhysicalDevice(name='/physical_device:GPU:0', device_type='GPU')]\n"
     ]
    }
   ],
   "source": [
    "import keras\n",
    "import tensorflow as tf\n",
    "from keras.models import Sequential\n",
    "from keras.layers import Dense, Conv2D, MaxPooling2D, Flatten\n",
    "import numpy as np\n",
    "from PIL import Image\n",
    "import matplotlib.pyplot as plt\n",
    "import matplotlib\n",
    "from keras.datasets import mnist\n",
    "from pandas import DataFrame, read_csv\n",
    "import random\n",
    "\n",
    "USE_GPU = True\n",
    "if USE_GPU:\n",
    "    print(tf.config.list_physical_devices('GPU'))\n"
   ]
  },
  {
   "cell_type": "code",
   "execution_count": 72,
   "metadata": {},
   "outputs": [],
   "source": [
    "training_data_df = read_csv('final/translated-training-data.csv')\n",
    "validation_data_df = read_csv('final/validation-training-data.csv')\n",
    "training_target_df = training_data_df.pop('target')\n",
    "validation_target_df = validation_data_df.pop('target')"
   ]
  },
  {
   "cell_type": "markdown",
   "metadata": {},
   "source": [
    "# Construct the Network"
   ]
  },
  {
   "cell_type": "code",
   "execution_count": 73,
   "metadata": {},
   "outputs": [
    {
     "name": "stdout",
     "output_type": "stream",
     "text": [
      "Model: \"sequential_7\"\n",
      "_________________________________________________________________\n",
      " Layer (type)                Output Shape              Param #   \n",
      "=================================================================\n",
      " dense_45 (Dense)            (None, 32)                608       \n",
      "                                                                 \n",
      " dense_46 (Dense)            (None, 32)                1056      \n",
      "                                                                 \n",
      " dense_47 (Dense)            (None, 16)                528       \n",
      "                                                                 \n",
      " dense_48 (Dense)            (None, 8)                 136       \n",
      "                                                                 \n",
      " dense_49 (Dense)            (None, 4)                 36        \n",
      "                                                                 \n",
      " dense_50 (Dense)            (None, 2)                 10        \n",
      "                                                                 \n",
      " dense_51 (Dense)            (None, 1)                 3         \n",
      "                                                                 \n",
      "=================================================================\n",
      "Total params: 2,377\n",
      "Trainable params: 2,377\n",
      "Non-trainable params: 0\n",
      "_________________________________________________________________\n",
      "18\n"
     ]
    }
   ],
   "source": [
    "# assemble the fully connected network\n",
    "number_of_columns = training_df.shape[1] + 1\n",
    "model = Sequential()\n",
    "\n",
    "model.add(keras.layers.Dense(32, activation=\"relu\", input_shape=(number_of_columns,)))\n",
    "\n",
    "# add the fully connected layers in a funnel shape. Try it out!\n",
    "for layer_size in [32, 16, 8, 4, 2, 1]:\n",
    "    model.add(keras.layers.Dense(layer_size, activation='relu'))\n",
    "    # model.add(keras.layers.Dropout(.05, noise_shape=None, seed=None))\n",
    "\n",
    "model.summary()\n",
    "print(number_of_columns)"
   ]
  },
  {
   "attachments": {},
   "cell_type": "markdown",
   "metadata": {},
   "source": [
    "# Train the Neural Network"
   ]
  },
  {
   "cell_type": "code",
   "execution_count": 74,
   "metadata": {},
   "outputs": [
    {
     "name": "stdout",
     "output_type": "stream",
     "text": [
      "Starting Training.\n",
      "20356/20356 [==============================] - 282s 14ms/step - loss: nan - accuracy: 0.5432\n",
      "Training is complete.\n"
     ]
    }
   ],
   "source": [
    "TRUNCATE_INDEX = 1000 # for testing purposes. We will use all training data at the end.\n",
    "BATCH_SIZE = 2\n",
    "\n",
    "model.compile(optimizer='adam', loss=keras.losses.categorical_crossentropy, metrics=['accuracy'])\n",
    "\n",
    "print(\"Starting Training.\")\n",
    "history = model.fit(training_data_df, training_target_df, batch_size=BATCH_SIZE, epochs=1)\n",
    "print(\"Training is complete.\")\n"
   ]
  },
  {
   "cell_type": "code",
   "execution_count": 75,
   "metadata": {},
   "outputs": [
    {
     "name": "stdout",
     "output_type": "stream",
     "text": [
      "Starting Testing.\n",
      "141/141 [==============================] - 1s 8ms/step - loss: nan - accuracy: 0.8802\n",
      "Testing is Complete.\n"
     ]
    }
   ],
   "source": [
    "print(\"Starting Testing.\")\n",
    "scores = model.evaluate(validation_data_df, validation_target_df)\n",
    "print(\"Testing is Complete.\")"
   ]
  }
 ],
 "metadata": {
  "kernelspec": {
   "display_name": "nn",
   "language": "python",
   "name": "python3"
  },
  "language_info": {
   "codemirror_mode": {
    "name": "ipython",
    "version": 3
   },
   "file_extension": ".py",
   "mimetype": "text/x-python",
   "name": "python",
   "nbconvert_exporter": "python",
   "pygments_lexer": "ipython3",
   "version": "3.10.9"
  },
  "orig_nbformat": 4
 },
 "nbformat": 4,
 "nbformat_minor": 2
}
